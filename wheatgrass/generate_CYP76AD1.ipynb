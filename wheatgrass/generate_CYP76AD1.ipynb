{
 "cells": [
  {
   "cell_type": "code",
   "execution_count": 1,
   "id": "6f7b1619-e39c-440d-a090-89b74e434d80",
   "metadata": {},
   "outputs": [],
   "source": [
    "from Bio import SeqIO"
   ]
  },
  {
   "cell_type": "code",
   "execution_count": 8,
   "id": "e83803c8-82e1-4668-b896-6aaaf05bda94",
   "metadata": {},
   "outputs": [],
   "source": [
    "HQ656024_1_mRNA = SeqIO.read(\"HQ656024.1.fasta\", \"fasta\")"
   ]
  },
  {
   "cell_type": "code",
   "execution_count": 10,
   "id": "5f5d05b2-75f0-45a8-b68e-f1b48c9803a2",
   "metadata": {},
   "outputs": [
    {
     "name": "stdout",
     "output_type": "stream",
     "text": [
      "ATGGATCATGCAACATTAGCAATGATACTAGCCATTTGGTTCATTTCTTTTCATTTCATAAAATTACTTTTTAGCCAACAAACTACCAAACTTCTTCCTCCTGGTCCAAAACCATTGCCAATAATTGGTAACATCTTAGAAGTTGGTAAAAAACCTCATCGTTCATTTGCTAATCTTGCTAAAATTCACGGCCCTTTAATATCGTTACGTCTAGGAAGTGTAACAACTATTGTTGTATCATCAGCAGATGTAGCTAAAGAAATGTTCTTAAAAAAAGACCACCCTCTTTCTAACCGTACTATTCCTAATTCTGTCACGGCCGGTGACCACCATAAACTTACCATGTCGTGGTTGCCGGTTTCGCCGAAATGGCGGAATTTTCGTAAGATTACAGCCGTCCATTTGCTTTCTCCTCAAAGACTTGATGCTTGCCAAACTTTTCGCCATGCCAAGGTGCAACAGCTTTATGAATATGTACAAGAATGTGCACAAAAAGGCCAAGCTGTTGATATTGGCAAAGCTGCATTTACTACCTCCCTTAATTTGTTATCTAAACTATTCTTTTCAGTGGAATTAGCCCACCATAAATCACACACTTCTCAAGAGTTTAAGGAACTAATATGGAACATTATGGAAGATATTGGCAAACCTAATTATGCTGATTATTTTCCTATTTTAGGCTGTGTTGATCCATCAGGTATTCGACGAAGATTAGCATGTAGTTTTGACAAGTTGATTGCAGTTTTTCAGGGTATAATATGTGAAAGGCTTGCGCCTGATTCTTCAACTACAACAACAACGACGACTGATGATGTGCTAGACGTTCTTCTTCAGCTCTTCAAACAAAATGAGCTCACTATGGGCGAGATTAACCATTTGCTCGTCGACATTTTTGATGCTGGAACAGACACTACATCAAGTACTTTTGAGTGGGTCATGACAGAGTTAATTAGGAATCCTGAAATGATGGAAAAGGCTCAAGAAGAAATTAAGCAAGTATTGGGCAAAGATAAACAAATTCAGGAATCAGACATTATTAACCTACCTTACTTACAAGCCATTATCAAAGAAACTTTGCGACTACATCCACCAACTGTATTTCTTTTGCCTCGTAAAGCCGACACTGATGTTGAACTATATGGTTATATTGTGCCTAAAGATGCACAAATACTTGTTAACTTATGGGCTATTGGAAGAGATCCTAATGCATGGCAAAATGCTGATATTTTTTCGCCCGAAAGATTTATAGGGTGTGAAATTGATGTCAAAGGAAGAGATTTTGGACTCTTACCTTTTGGAGCTGGAAGAAGGATATGTCCTGGGATGAATTTGGCCATTAGAATGTTAACTTTGATGCTAGCTACTTTACTTCAATTCTTCAATTGGAAGCTTGAAGGAGACATAAGTCCAAAAGACTTAGACATGGATGAGAAATTTGGGATTGCGTTACAAAAGACAAAGCCTTTAAAACTTATTCCAATACCTAGGTATTGA\n"
     ]
    }
   ],
   "source": [
    "cds_start = 258  # 259 - 1 (Python uses 0-based)\n",
    "cds_end = 1752\n",
    "cds_sequence = HQ656024_1_mRNA.seq[cds_start:cds_end]\n",
    "\n",
    "print(cds_sequence)\n",
    "# Save as new FASTA\n",
    "# with open(\"CYP76AD1_CDS.fasta\", \"w\") as f:\n",
    "#    f.write(f\">CYP76AD1_CDS [Beta vulgaris]\\n{cds_sequence}\")"
   ]
  },
  {
   "cell_type": "code",
   "execution_count": 25,
   "id": "5a1db9dc-0721-4d62-a437-c6167aad0638",
   "metadata": {},
   "outputs": [],
   "source": [
    "chr1A = SeqIO.read(\"Triticum_aestivum_chr1A.fasta\", \"fasta\")"
   ]
  },
  {
   "cell_type": "code",
   "execution_count": 26,
   "id": "9d386b16-0537-49ea-ad01-dff1873929ca",
   "metadata": {},
   "outputs": [
    {
     "name": "stdout",
     "output_type": "stream",
     "text": [
      "ID: ref|NC_057794.1|:6674470-6677280\n",
      "Name: ref|NC_057794.1|:6674470-6677280\n",
      "Description: ref|NC_057794.1|:6674470-6677280 Triticum aestivum cultivar Chinese Spring chromosome 1A, IWGSC CS RefSeq v2.1, whole genome shotgun sequence\n",
      "Number of features: 0\n",
      "Seq('TAACGGATTGCTACTGGTGTTGGCAACAAGAGGCCATGAGTGTCCTTGAATTTG...TGG')\n"
     ]
    }
   ],
   "source": [
    "print(chr1A)"
   ]
  },
  {
   "cell_type": "code",
   "execution_count": null,
   "id": "64a19f09-dbdd-42e6-a083-4bd5d6eeae92",
   "metadata": {},
   "outputs": [],
   "source": []
  }
 ],
 "metadata": {
  "kernelspec": {
   "display_name": "Python 3 (ipykernel)",
   "language": "python",
   "name": "python3"
  },
  "language_info": {
   "codemirror_mode": {
    "name": "ipython",
    "version": 3
   },
   "file_extension": ".py",
   "mimetype": "text/x-python",
   "name": "python",
   "nbconvert_exporter": "python",
   "pygments_lexer": "ipython3",
   "version": "3.12.9"
  }
 },
 "nbformat": 4,
 "nbformat_minor": 5
}
